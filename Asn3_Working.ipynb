{
 "cells": [
  {
   "cell_type": "markdown",
   "metadata": {
    "id": "xCKeVND0yeb6"
   },
   "source": [
    "Consider the 2 SARWS mimicking 2 single stranded DNAs confined in a cubic box. Compute the\n",
    "1. number of correct,\n",
    "2. incorrect\n",
    "3. trap correct contacts (for the given sequence complexity)\n",
    "4. the radius of gyration of the strand number"
   ]
  },
  {
   "cell_type": "code",
   "execution_count": 8,
   "metadata": {
    "id": "MT1uUW8fyYAi"
   },
   "outputs": [],
   "source": [
    "import numpy as np\n",
    "import matplotlib.pyplot as plt"
   ]
  },
  {
   "cell_type": "code",
   "execution_count": 9,
   "metadata": {
    "id": "KOmW7YXXzTcM"
   },
   "outputs": [],
   "source": [
    "sarw1 = np.array([\n",
    "    (6,1,0), (5,0,1), (6,1,2), (5,2,1), (4,3,0),\n",
    "    (5,4,1), (6,5,2), (5,6,1), (4,5,0), (3,4,1), \n",
    "    (4,3,2), (5,2,3), (6,1,4), (5,2,5), (6,3,4), \n",
    "    (5,4,3), (4,3,4), (3,4,5), (2,5,4), (1,4,3), \n",
    "    (0,3,2), (1,2,3), (0,1,4), (1,0,3), (2,1,2)\n",
    "])\n",
    "sarw2 = np.array([\n",
    "    (4,1,2), (5,0,1), (6,1,2), (5,2,3), (4,3,4), \n",
    "    (3,2,5), (2,1,4), (3,0,3), (4,1,4), (3,2,3),\n",
    "    (2,1,2), (3,2,1), (2,1,0), (1,2,1), (2,3,2), \n",
    "    (1,4,1), (2,5,0), (3,4,1), (4,3,0), (5,4,1), \n",
    "    (6,5,2), (5,6,3), (4,5,2), (5,6,1), (4,5,0)\n",
    "])\n",
    "\n",
    "complexity = 3"
   ]
  },
  {
   "cell_type": "code",
   "execution_count": 10,
   "metadata": {
    "colab": {
     "base_uri": "https://localhost:8080/"
    },
    "executionInfo": {
     "elapsed": 8,
     "status": "ok",
     "timestamp": 1728927551796,
     "user": {
      "displayName": "Aruthra R ep21b005",
      "userId": "01093278740352519749"
     },
     "user_tz": -330
    },
    "id": "3ZDaLg9wSpHc",
    "outputId": "9f34fb03-f8b6-48cc-8639-c11297e1ba40"
   },
   "outputs": [
    {
     "name": "stdout",
     "output_type": "stream",
     "text": [
      "Correct contacts: 2\n",
      "Incorrect contacts: 8\n",
      "Trap correct contacts: 1\n",
      "Radius of gyration for sarw1: 2.9469984730230183\n",
      "Radius of gyration for sarw2: 2.688047618625831\n"
     ]
    }
   ],
   "source": [
    "def calculate_contacts_with_tcc(sarw1, sarw2, complexity, trap_distance=1.5):\n",
    "    correct_contacts = 0\n",
    "    incorrect_contacts = 0\n",
    "    trap_correct_contacts = 0\n",
    "\n",
    "    for i in range(len(sarw1)):\n",
    "      for j in range(len(sarw2)):\n",
    "        if np.linalg.norm(sarw1[i] - sarw2[j]) == 0:\n",
    "          if i == j:\n",
    "            correct_contacts += 1\n",
    "          elif abs(i - j)%complexity == 0:\n",
    "            trap_correct_contacts += 1\n",
    "          else:\n",
    "            incorrect_contacts += 1\n",
    "    return correct_contacts, incorrect_contacts, trap_correct_contacts\n",
    "\n",
    "def radius_of_gyration(sarw):\n",
    "    N = len(sarw)\n",
    "    center_of_mass = np.mean(sarw, axis=0)\n",
    "    rg_squared = np.sum(np.linalg.norm(sarw - center_of_mass, axis=1) ** 2) / N\n",
    "    return np.sqrt(rg_squared)\n",
    "\n",
    "correct_contacts, incorrect_contacts, trap_correct_contacts = calculate_contacts_with_tcc(sarw1, sarw2, complexity)\n",
    "radius_of_gyration_sarw1 = radius_of_gyration(sarw1)\n",
    "radius_of_gyration_sarw2 = radius_of_gyration(sarw2)\n",
    "print(f'Correct contacts: {correct_contacts}')\n",
    "print(f'Incorrect contacts: {incorrect_contacts}')\n",
    "print(f'Trap correct contacts: {trap_correct_contacts}')\n",
    "print(f'Radius of gyration for sarw1: {radius_of_gyration_sarw1}')\n",
    "print(f'Radius of gyration for sarw2: {radius_of_gyration_sarw2}')\n"
   ]
  }
 ],
 "metadata": {
  "colab": {
   "provenance": [
    {
     "file_id": "1kS1HuP32RiEhzucuPZ4XI7zPAcI-OdmH",
     "timestamp": 1728931263028
    },
    {
     "file_id": "1sqfVit_kFyaaJKRQ_z_fCUmw_1xb92tI",
     "timestamp": 1728927425810
    }
   ]
  },
  "kernelspec": {
   "display_name": "Python 3",
   "name": "python3"
  },
  "language_info": {
   "codemirror_mode": {
    "name": "ipython",
    "version": 3
   },
   "file_extension": ".py",
   "mimetype": "text/x-python",
   "name": "python",
   "nbconvert_exporter": "python",
   "pygments_lexer": "ipython3",
   "version": "3.12.5"
  }
 },
 "nbformat": 4,
 "nbformat_minor": 0
}
